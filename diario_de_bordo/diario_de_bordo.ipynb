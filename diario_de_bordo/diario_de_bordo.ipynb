{
 "cells": [
  {
   "cell_type": "code",
   "execution_count": 1,
   "id": "4e4ebfa5",
   "metadata": {},
   "outputs": [],
   "source": [
    "import pandas as pd"
   ]
  },
  {
   "cell_type": "code",
   "execution_count": 14,
   "id": "0b044feb",
   "metadata": {},
   "outputs": [
    {
     "name": "stdout",
     "output_type": "stream",
     "text": [
      "Empty DataFrame\n",
      "Columns: [DATA_INICIO, DATA_FIM, CATEGORIA, LOCAL_INICIO, LOCAL_FIM, DISTANCIA, PROPOSITO]\n",
      "Index: []\n"
     ]
    }
   ],
   "source": [
    "df = pd.read_csv(\"./info_transportes.csv\", sep=\";\", encoding=\"utf-8\")\n",
    "\n",
    "\n",
    "filtro = df[df[\"DATA_INICIO\"] == \"02-09-2016\"]\n",
    "print(filtro)\n"
   ]
  },
  {
   "cell_type": "code",
   "execution_count": 36,
   "id": "c2b9f2f8",
   "metadata": {},
   "outputs": [
    {
     "name": "stdout",
     "output_type": "stream",
     "text": [
      "            DATA_INICIO          DATA_FIM CATEGORIA      LOCAL_INICIO  \\\n",
      "99  2016-02-13 14:21:00  02-13-2016 14:41   Negocio              Cary   \n",
      "100 2016-02-13 23:45:00   02-13-2016 0:01   Pessoal     East Elmhurst   \n",
      "101 2016-02-13 00:50:00   02-13-2016 1:00   Pessoal   Jackson Heights   \n",
      "102 2016-02-13 14:07:00  02-13-2016 14:40   Negocio     East Elmhurst   \n",
      "103 2016-02-13 14:46:00  02-13-2016 15:03   Negocio           Midtown   \n",
      "104 2016-02-13 16:35:00  02-13-2016 17:02   Negocio          New York   \n",
      "105 2016-02-13 17:06:00  02-13-2016 17:29   Negocio  Long Island City   \n",
      "\n",
      "            LOCAL_FIM  DISTANCIA PROPOSITO  \n",
      "99        Morrisville         89   Reunião  \n",
      "100   Jackson Heights         27       NaN  \n",
      "101     East Elmhurst         18       NaN  \n",
      "102          New York         81   Reunião  \n",
      "103      Midtown West          2   Reunião  \n",
      "104  Long Island City         13   Reunião  \n",
      "105           Jamaica        139   Reunião  \n"
     ]
    }
   ],
   "source": [
    "\n",
    "# Exemplo: lendo o CSV\n",
    "df = pd.read_csv(\"./info_transportes.csv\", sep=\";\", encoding=\"utf-8\")\n",
    "\n",
    "# Converter DATA_INICIO para datetime com o formato correto\n",
    "df['DATA_INICIO'] = pd.to_datetime(df['DATA_INICIO'], format='%m-%d-%Y %H:%M')\n",
    "\n",
    "# Agora para filtrar todas as linhas onde a DATA_INICIO tem data igual a 2 de setembro de 2016 (independente do horário)\n",
    "filtro = df[df['DATA_INICIO'].dt.date == pd.to_datetime('2016-02-13').date()]\n",
    "\n",
    "print(filtro)\n"
   ]
  },
  {
   "cell_type": "code",
   "execution_count": 35,
   "id": "6c7d951a",
   "metadata": {},
   "outputs": [
    {
     "name": "stdout",
     "output_type": "stream",
     "text": [
      "       DT_REFE  QT_CORR  QT_CORR_NEG  QT_CORR_PESS  VL_MAX_DIST  VL_MIN_DIST  \\\n",
      "29  2016-02-13        7            5             2          139            2   \n",
      "\n",
      "    VL_AVG_DIST  QT_CORR_REUNI  QT_CORR_NAO_REUNI  \n",
      "29        52.71              5                  2  \n"
     ]
    }
   ],
   "source": [
    "spark = pd.read_csv(\"../dados/pyspark/part-00000-2cb1034b-85de-4cb9-97c2-500028bcf37b-c000.csv\", sep=\";\", encoding=\"utf-8\")\n",
    "filtro = spark[spark[\"DT_REFE\"] == \"2016-02-13\"]\n",
    "print(filtro)"
   ]
  },
  {
   "cell_type": "code",
   "execution_count": 38,
   "id": "4e814f7a",
   "metadata": {},
   "outputs": [
    {
     "name": "stdout",
     "output_type": "stream",
     "text": [
      "       DT_REFE  QT_CORR  QT_CORR_NEG  QT_CORR_PESS  VL_MAX_DIST  VL_MIN_DIST  \\\n",
      "29  2016-02-13        7            5             2          139            2   \n",
      "\n",
      "    VL_AVG_DIST  QT_CORR_REUNI  QT_CORR_NAO_REUNI  \n",
      "29        52.71              5                  2  \n"
     ]
    }
   ],
   "source": [
    "pandas= pd.read_csv(\"../dados/pandas/logbook.csv\", sep=\";\", encoding=\"utf-8\")\n",
    "filtro = pandas[pandas[\"DT_REFE\"] == \"2016-02-13\"]\n",
    "print(filtro)\n"
   ]
  },
  {
   "cell_type": "code",
   "execution_count": 39,
   "id": "95266ec7",
   "metadata": {},
   "outputs": [
    {
     "name": "stdout",
     "output_type": "stream",
     "text": [
      "       DT_REFE  QT_CORR  QT_CORR_NEG  QT_CORR_PESS  VL_MAX_DIST  VL_MIN_DIST  \\\n",
      "29  2016-02-13        7            5             2          139            2   \n",
      "\n",
      "    VL_AVG_DIST  QT_CORR_REUNI  QT_CORR_NAO_REUNI  \n",
      "29        52.71              5                  2  \n"
     ]
    }
   ],
   "source": [
    "pandas_pq= pd.read_parquet(\"../dados/pandas/logbook.parquet\")\n",
    "filtro = pandas_pq[pandas_pq[\"DT_REFE\"] == \"2016-02-13\"]\n",
    "print(filtro)"
   ]
  },
  {
   "cell_type": "code",
   "execution_count": 50,
   "id": "0b603eb8",
   "metadata": {},
   "outputs": [
    {
     "name": "stdout",
     "output_type": "stream",
     "text": [
      "      DT_REFE  QT_CORR  QT_CORR_NEG  QT_CORR_PESS  VL_MAX_DIST  VL_MIN_DIST  \\\n",
      "29 2016-02-13        7            5             2          139            2   \n",
      "\n",
      "   VL_AVG_DIST  QT_CORR_REUNI  QT_CORR_NAO_REUNI  \n",
      "29       52.71              5                  2  \n"
     ]
    }
   ],
   "source": [
    "spark_pq = pd.read_parquet(\"../dados/pyspark/logbook.parquet\")\n",
    "spark_pq[\"DT_REFE\"] = pd.to_datetime(spark_pq[\"DT_REFE\"])\n",
    "#spark_pq.head(90)\n",
    "filtro = spark_pq[spark_pq[\"DT_REFE\"] == \"2016-02-13\"]\n",
    "print(filtro)"
   ]
  },
  {
   "cell_type": "code",
   "execution_count": null,
   "id": "f8b72dc9",
   "metadata": {},
   "outputs": [],
   "source": []
  },
  {
   "cell_type": "code",
   "execution_count": null,
   "id": "76c43559",
   "metadata": {},
   "outputs": [],
   "source": []
  },
  {
   "cell_type": "code",
   "execution_count": null,
   "id": "97cd288b",
   "metadata": {},
   "outputs": [],
   "source": []
  },
  {
   "cell_type": "code",
   "execution_count": null,
   "id": "1d9feb38",
   "metadata": {},
   "outputs": [
    {
     "data": {
      "text/plain": [
       "np.int64(0)"
      ]
     },
     "execution_count": 83,
     "metadata": {},
     "output_type": "execute_result"
    }
   ],
   "source": [
    "df['DATA_INICIO'] = pd.to_datetime(df['DATA_INICIO'])\n",
    "\n",
    "#garantindo a inexistência de nulos\n",
    "df['DATA_INICIO'].isna().sum()"
   ]
  },
  {
   "cell_type": "code",
   "execution_count": 75,
   "id": "5d2d4412",
   "metadata": {},
   "outputs": [
    {
     "data": {
      "text/html": [
       "<div>\n",
       "<style scoped>\n",
       "    .dataframe tbody tr th:only-of-type {\n",
       "        vertical-align: middle;\n",
       "    }\n",
       "\n",
       "    .dataframe tbody tr th {\n",
       "        vertical-align: top;\n",
       "    }\n",
       "\n",
       "    .dataframe thead th {\n",
       "        text-align: right;\n",
       "    }\n",
       "</style>\n",
       "<table border=\"1\" class=\"dataframe\">\n",
       "  <thead>\n",
       "    <tr style=\"text-align: right;\">\n",
       "      <th></th>\n",
       "      <th>DT_REFE</th>\n",
       "      <th>QT_CORR</th>\n",
       "      <th>QT_CORR_NEG</th>\n",
       "      <th>QT_CORR_PESS</th>\n",
       "      <th>VL_MAX_DIST</th>\n",
       "      <th>VL_MIN_DIST</th>\n",
       "      <th>VL_AVG_DIST</th>\n",
       "      <th>QT_CORR_REUNI</th>\n",
       "      <th>QT_CORR_NAO_REUNI</th>\n",
       "    </tr>\n",
       "  </thead>\n",
       "  <tbody>\n",
       "    <tr>\n",
       "      <th>0</th>\n",
       "      <td>2016-01-01</td>\n",
       "      <td>1</td>\n",
       "      <td>1</td>\n",
       "      <td>0</td>\n",
       "      <td>51</td>\n",
       "      <td>51</td>\n",
       "      <td>51.00</td>\n",
       "      <td>0</td>\n",
       "      <td>1</td>\n",
       "    </tr>\n",
       "    <tr>\n",
       "      <th>1</th>\n",
       "      <td>2016-01-02</td>\n",
       "      <td>2</td>\n",
       "      <td>2</td>\n",
       "      <td>0</td>\n",
       "      <td>48</td>\n",
       "      <td>5</td>\n",
       "      <td>26.50</td>\n",
       "      <td>0</td>\n",
       "      <td>2</td>\n",
       "    </tr>\n",
       "    <tr>\n",
       "      <th>2</th>\n",
       "      <td>2016-01-05</td>\n",
       "      <td>1</td>\n",
       "      <td>1</td>\n",
       "      <td>0</td>\n",
       "      <td>47</td>\n",
       "      <td>47</td>\n",
       "      <td>47.00</td>\n",
       "      <td>1</td>\n",
       "      <td>0</td>\n",
       "    </tr>\n",
       "    <tr>\n",
       "      <th>3</th>\n",
       "      <td>2016-01-06</td>\n",
       "      <td>3</td>\n",
       "      <td>3</td>\n",
       "      <td>0</td>\n",
       "      <td>637</td>\n",
       "      <td>43</td>\n",
       "      <td>250.33</td>\n",
       "      <td>1</td>\n",
       "      <td>2</td>\n",
       "    </tr>\n",
       "    <tr>\n",
       "      <th>4</th>\n",
       "      <td>2016-01-07</td>\n",
       "      <td>1</td>\n",
       "      <td>1</td>\n",
       "      <td>0</td>\n",
       "      <td>8</td>\n",
       "      <td>8</td>\n",
       "      <td>8.00</td>\n",
       "      <td>1</td>\n",
       "      <td>0</td>\n",
       "    </tr>\n",
       "  </tbody>\n",
       "</table>\n",
       "</div>"
      ],
      "text/plain": [
       "      DT_REFE  QT_CORR  QT_CORR_NEG  QT_CORR_PESS  VL_MAX_DIST  VL_MIN_DIST  \\\n",
       "0  2016-01-01        1            1             0           51           51   \n",
       "1  2016-01-02        2            2             0           48            5   \n",
       "2  2016-01-05        1            1             0           47           47   \n",
       "3  2016-01-06        3            3             0          637           43   \n",
       "4  2016-01-07        1            1             0            8            8   \n",
       "\n",
       "   VL_AVG_DIST  QT_CORR_REUNI  QT_CORR_NAO_REUNI  \n",
       "0        51.00              0                  1  \n",
       "1        26.50              0                  2  \n",
       "2        47.00              1                  0  \n",
       "3       250.33              1                  2  \n",
       "4         8.00              1                  0  "
      ]
     },
     "execution_count": 75,
     "metadata": {},
     "output_type": "execute_result"
    }
   ],
   "source": [
    "df['DT_REFE'] = df['DATA_INICIO'].dt.strftime('%Y-%m-%d')\n",
    "\n",
    "\n",
    "new_df = df.groupby('DT_REFE').agg(\n",
    "    QT_CORR_NEG=('CATEGORIA', lambda x:(x == 'Negocio').sum()),\n",
    "    QT_CORR_PESS=('CATEGORIA', lambda x:(x == 'Pessoal').sum()),\n",
    "    VL_MAX_DIST=('DISTANCIA', 'max'),\n",
    "    VL_MIN_DIST=('DISTANCIA', 'min'),\n",
    "    VL_AVG_DIST=('DISTANCIA', 'mean'),\n",
    "    QT_CORR_REUNI=('PROPOSITO', lambda x:(x == 'Reunião').sum()),\n",
    "    QT_CORR_NAO_REUNI=('PROPOSITO', lambda x: (x != 'Reunião').sum())\n",
    "                         \n",
    ").reset_index()\n",
    "\n",
    "new_df['QT_CORR'] = df.groupby('DT_REFE').size().values\n",
    "\n",
    "new_df = new_df[[\n",
    "    'DT_REFE', 'QT_CORR', 'QT_CORR_NEG', 'QT_CORR_PESS',\n",
    "    'VL_MAX_DIST', 'VL_MIN_DIST', 'VL_AVG_DIST',\n",
    "    'QT_CORR_REUNI', 'QT_CORR_NAO_REUNI'\n",
    "]]\n",
    "\n",
    "new_df['VL_AVG_DIST'] = new_df['VL_AVG_DIST'].round(2)\n",
    "\n",
    "new_df.head()\n"
   ]
  },
  {
   "cell_type": "code",
   "execution_count": null,
   "id": "e3d98f0c",
   "metadata": {},
   "outputs": [],
   "source": [
    "new_df.to_csv(\"./info_corridas_do_dia.csv\", sep=\";\", header=True)\n",
    "\n",
    "new_df.to_parquet(\"./info_corridas_do_dia.parquet\")"
   ]
  },
  {
   "cell_type": "code",
   "execution_count": 26,
   "id": "2c7f78d4",
   "metadata": {},
   "outputs": [
    {
     "data": {
      "text/html": [
       "<div>\n",
       "<style scoped>\n",
       "    .dataframe tbody tr th:only-of-type {\n",
       "        vertical-align: middle;\n",
       "    }\n",
       "\n",
       "    .dataframe tbody tr th {\n",
       "        vertical-align: top;\n",
       "    }\n",
       "\n",
       "    .dataframe thead th {\n",
       "        text-align: right;\n",
       "    }\n",
       "</style>\n",
       "<table border=\"1\" class=\"dataframe\">\n",
       "  <thead>\n",
       "    <tr style=\"text-align: right;\">\n",
       "      <th></th>\n",
       "      <th>DT_REFE</th>\n",
       "      <th>QT_CORR</th>\n",
       "      <th>QT_CORR_NEG</th>\n",
       "      <th>QT_CORR_PESS</th>\n",
       "      <th>VL_MAX_DIST</th>\n",
       "      <th>VL_MIN_DIST</th>\n",
       "      <th>VL_AVG_DIST</th>\n",
       "      <th>QT_CORR_REUNI</th>\n",
       "      <th>QT_CORR_NAO_REUNI</th>\n",
       "    </tr>\n",
       "  </thead>\n",
       "  <tbody>\n",
       "    <tr>\n",
       "      <th>0</th>\n",
       "      <td>2016-01-01</td>\n",
       "      <td>1</td>\n",
       "      <td>1</td>\n",
       "      <td>0</td>\n",
       "      <td>51</td>\n",
       "      <td>51</td>\n",
       "      <td>51.00</td>\n",
       "      <td>0</td>\n",
       "      <td>1</td>\n",
       "    </tr>\n",
       "    <tr>\n",
       "      <th>1</th>\n",
       "      <td>2016-01-02</td>\n",
       "      <td>2</td>\n",
       "      <td>2</td>\n",
       "      <td>0</td>\n",
       "      <td>48</td>\n",
       "      <td>5</td>\n",
       "      <td>26.50</td>\n",
       "      <td>0</td>\n",
       "      <td>2</td>\n",
       "    </tr>\n",
       "    <tr>\n",
       "      <th>2</th>\n",
       "      <td>2016-01-05</td>\n",
       "      <td>1</td>\n",
       "      <td>1</td>\n",
       "      <td>0</td>\n",
       "      <td>47</td>\n",
       "      <td>47</td>\n",
       "      <td>47.00</td>\n",
       "      <td>1</td>\n",
       "      <td>0</td>\n",
       "    </tr>\n",
       "    <tr>\n",
       "      <th>3</th>\n",
       "      <td>2016-01-06</td>\n",
       "      <td>3</td>\n",
       "      <td>3</td>\n",
       "      <td>0</td>\n",
       "      <td>637</td>\n",
       "      <td>43</td>\n",
       "      <td>250.33</td>\n",
       "      <td>1</td>\n",
       "      <td>2</td>\n",
       "    </tr>\n",
       "    <tr>\n",
       "      <th>4</th>\n",
       "      <td>2016-01-07</td>\n",
       "      <td>1</td>\n",
       "      <td>1</td>\n",
       "      <td>0</td>\n",
       "      <td>8</td>\n",
       "      <td>8</td>\n",
       "      <td>8.00</td>\n",
       "      <td>1</td>\n",
       "      <td>0</td>\n",
       "    </tr>\n",
       "  </tbody>\n",
       "</table>\n",
       "</div>"
      ],
      "text/plain": [
       "      DT_REFE  QT_CORR  QT_CORR_NEG  QT_CORR_PESS  VL_MAX_DIST  VL_MIN_DIST  \\\n",
       "0  2016-01-01        1            1             0           51           51   \n",
       "1  2016-01-02        2            2             0           48            5   \n",
       "2  2016-01-05        1            1             0           47           47   \n",
       "3  2016-01-06        3            3             0          637           43   \n",
       "4  2016-01-07        1            1             0            8            8   \n",
       "\n",
       "   VL_AVG_DIST  QT_CORR_REUNI  QT_CORR_NAO_REUNI  \n",
       "0        51.00              0                  1  \n",
       "1        26.50              0                  2  \n",
       "2        47.00              1                  0  \n",
       "3       250.33              1                  2  \n",
       "4         8.00              1                  0  "
      ]
     },
     "execution_count": 26,
     "metadata": {},
     "output_type": "execute_result"
    }
   ],
   "source": [
    "pandas = pd.read_parquet(\"D:\\\\Ana Paula\\\\f1rst-challenge\\\\dados\\\\pandas\\\\logbook.parquet\")\n",
    "pandas_sorted = pandas.sort_values(by='DT_REFE', ascending=True)\n",
    "pandas_sorted.head()\n",
    "\n"
   ]
  },
  {
   "cell_type": "code",
   "execution_count": 25,
   "id": "73f17411",
   "metadata": {},
   "outputs": [
    {
     "data": {
      "text/html": [
       "<div>\n",
       "<style scoped>\n",
       "    .dataframe tbody tr th:only-of-type {\n",
       "        vertical-align: middle;\n",
       "    }\n",
       "\n",
       "    .dataframe tbody tr th {\n",
       "        vertical-align: top;\n",
       "    }\n",
       "\n",
       "    .dataframe thead th {\n",
       "        text-align: right;\n",
       "    }\n",
       "</style>\n",
       "<table border=\"1\" class=\"dataframe\">\n",
       "  <thead>\n",
       "    <tr style=\"text-align: right;\">\n",
       "      <th></th>\n",
       "      <th>DT_REFE</th>\n",
       "      <th>QT_CORR</th>\n",
       "      <th>QT_CORR_NEG</th>\n",
       "      <th>QT_CORR_PESS</th>\n",
       "      <th>VL_MAX_DIST</th>\n",
       "      <th>VL_MIN_DIST</th>\n",
       "      <th>VL_AVG_DIST</th>\n",
       "      <th>QT_CORR_REUNI</th>\n",
       "      <th>QT_CORR_NAO_REUNI</th>\n",
       "    </tr>\n",
       "  </thead>\n",
       "  <tbody>\n",
       "    <tr>\n",
       "      <th>14</th>\n",
       "      <td>2016-01-01</td>\n",
       "      <td>1</td>\n",
       "      <td>1</td>\n",
       "      <td>0</td>\n",
       "      <td>51</td>\n",
       "      <td>51</td>\n",
       "      <td>51.000000</td>\n",
       "      <td>0</td>\n",
       "      <td>1</td>\n",
       "    </tr>\n",
       "    <tr>\n",
       "      <th>212</th>\n",
       "      <td>2016-01-02</td>\n",
       "      <td>2</td>\n",
       "      <td>2</td>\n",
       "      <td>0</td>\n",
       "      <td>48</td>\n",
       "      <td>5</td>\n",
       "      <td>26.500000</td>\n",
       "      <td>0</td>\n",
       "      <td>1</td>\n",
       "    </tr>\n",
       "    <tr>\n",
       "      <th>69</th>\n",
       "      <td>2016-01-05</td>\n",
       "      <td>1</td>\n",
       "      <td>1</td>\n",
       "      <td>0</td>\n",
       "      <td>47</td>\n",
       "      <td>47</td>\n",
       "      <td>47.000000</td>\n",
       "      <td>1</td>\n",
       "      <td>0</td>\n",
       "    </tr>\n",
       "    <tr>\n",
       "      <th>70</th>\n",
       "      <td>2016-01-06</td>\n",
       "      <td>3</td>\n",
       "      <td>3</td>\n",
       "      <td>0</td>\n",
       "      <td>637</td>\n",
       "      <td>43</td>\n",
       "      <td>250.333333</td>\n",
       "      <td>1</td>\n",
       "      <td>2</td>\n",
       "    </tr>\n",
       "    <tr>\n",
       "      <th>262</th>\n",
       "      <td>2016-01-07</td>\n",
       "      <td>1</td>\n",
       "      <td>1</td>\n",
       "      <td>0</td>\n",
       "      <td>8</td>\n",
       "      <td>8</td>\n",
       "      <td>8.000000</td>\n",
       "      <td>1</td>\n",
       "      <td>0</td>\n",
       "    </tr>\n",
       "  </tbody>\n",
       "</table>\n",
       "</div>"
      ],
      "text/plain": [
       "        DT_REFE  QT_CORR  QT_CORR_NEG  QT_CORR_PESS  VL_MAX_DIST  VL_MIN_DIST  \\\n",
       "14   2016-01-01        1            1             0           51           51   \n",
       "212  2016-01-02        2            2             0           48            5   \n",
       "69   2016-01-05        1            1             0           47           47   \n",
       "70   2016-01-06        3            3             0          637           43   \n",
       "262  2016-01-07        1            1             0            8            8   \n",
       "\n",
       "     VL_AVG_DIST  QT_CORR_REUNI  QT_CORR_NAO_REUNI  \n",
       "14     51.000000              0                  1  \n",
       "212    26.500000              0                  1  \n",
       "69     47.000000              1                  0  \n",
       "70    250.333333              1                  2  \n",
       "262     8.000000              1                  0  "
      ]
     },
     "execution_count": 25,
     "metadata": {},
     "output_type": "execute_result"
    }
   ],
   "source": [
    "spark = pd.read_parquet(\"D:\\\\Ana Paula\\\\f1rst-challenge\\\\dados\\\\parquet\\\\part-00000-3327f586-100a-432f-91ed-da6eee7006a3-c000.snappy.parquet\")\n",
    "df_spark_sorted = spark.sort_values(by='DT_REFE', ascending=True)\n",
    "df_spark_sorted.head()"
   ]
  },
  {
   "cell_type": "code",
   "execution_count": 13,
   "id": "2c6ddf5e",
   "metadata": {},
   "outputs": [
    {
     "data": {
      "text/html": [
       "<div>\n",
       "<style scoped>\n",
       "    .dataframe tbody tr th:only-of-type {\n",
       "        vertical-align: middle;\n",
       "    }\n",
       "\n",
       "    .dataframe tbody tr th {\n",
       "        vertical-align: top;\n",
       "    }\n",
       "\n",
       "    .dataframe thead th {\n",
       "        text-align: right;\n",
       "    }\n",
       "</style>\n",
       "<table border=\"1\" class=\"dataframe\">\n",
       "  <thead>\n",
       "    <tr style=\"text-align: right;\">\n",
       "      <th></th>\n",
       "      <th>DT_REFE</th>\n",
       "      <th>QT_CORR</th>\n",
       "      <th>QT_CORR_NEG</th>\n",
       "      <th>QT_CORR_PESS</th>\n",
       "      <th>VL_MAX_DIST</th>\n",
       "      <th>VL_MIN_DIST</th>\n",
       "      <th>VL_AVG_DIST</th>\n",
       "      <th>QT_CORR_REUNI</th>\n",
       "      <th>QT_CORR_NAO_REUNI</th>\n",
       "    </tr>\n",
       "  </thead>\n",
       "  <tbody>\n",
       "    <tr>\n",
       "      <th>0</th>\n",
       "      <td>None</td>\n",
       "      <td>0</td>\n",
       "      <td>1076</td>\n",
       "      <td>77</td>\n",
       "      <td>3103</td>\n",
       "      <td>1</td>\n",
       "      <td>91.828274</td>\n",
       "      <td>187</td>\n",
       "      <td>464</td>\n",
       "    </tr>\n",
       "  </tbody>\n",
       "</table>\n",
       "</div>"
      ],
      "text/plain": [
       "  DT_REFE  QT_CORR  QT_CORR_NEG  QT_CORR_PESS  VL_MAX_DIST  VL_MIN_DIST  \\\n",
       "0    None        0         1076            77         3103            1   \n",
       "\n",
       "   VL_AVG_DIST  QT_CORR_REUNI  QT_CORR_NAO_REUNI  \n",
       "0    91.828274            187                464  "
      ]
     },
     "execution_count": 13,
     "metadata": {},
     "output_type": "execute_result"
    }
   ],
   "source": [
    "spark.head()"
   ]
  }
 ],
 "metadata": {
  "kernelspec": {
   "display_name": "Python 3",
   "language": "python",
   "name": "python3"
  },
  "language_info": {
   "codemirror_mode": {
    "name": "ipython",
    "version": 3
   },
   "file_extension": ".py",
   "mimetype": "text/x-python",
   "name": "python",
   "nbconvert_exporter": "python",
   "pygments_lexer": "ipython3",
   "version": "3.13.1"
  }
 },
 "nbformat": 4,
 "nbformat_minor": 5
}
